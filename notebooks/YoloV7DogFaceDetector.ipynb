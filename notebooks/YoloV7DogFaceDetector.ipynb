{
 "cells": [
  {
   "cell_type": "code",
   "execution_count": 1,
   "metadata": {
    "id": "uI1n9NrY1j39"
   },
   "outputs": [],
   "source": [
    "import os\n",
    "import zipfile\n",
    "import numpy as np\n",
    "from PIL import Image, ImageDraw\n",
    "from tqdm import tqdm\n",
    "import matplotlib.pyplot as plt"
   ]
  },
  {
   "cell_type": "code",
   "execution_count": 2,
   "metadata": {
    "colab": {
     "base_uri": "https://localhost:8080/"
    },
    "id": "4gEEsDt61rE8",
    "outputId": "1c1430b1-496e-45df-cc2b-c3931011aa9e"
   },
   "outputs": [
    {
     "name": "stdout",
     "output_type": "stream",
     "text": [
      "Mounted at /content/drive/\n"
     ]
    }
   ],
   "source": [
    "from google.colab import drive\n",
    "drive.mount('/content/drive/')\n",
    "\n",
    "# Extract contents of archive\n",
    "data_archive = zipfile.ZipFile(\"/content/drive/My Drive/Tsinghua_truncated_yoloV7_data.zip\", 'r')\n",
    "data_archive.extractall()\n",
    "\n",
    "# Extract contents of archive\n",
    "labels_archive = zipfile.ZipFile(\"/content/drive/My Drive/Tsinghua_truncated_yoloV7_labels.zip\", 'r')\n",
    "labels_archive.extractall()"
   ]
  },
  {
   "cell_type": "code",
   "execution_count": 3,
   "metadata": {
    "colab": {
     "base_uri": "https://localhost:8080/"
    },
    "id": "djMp-29f3nmp",
    "outputId": "9d3c8340-3207-40f5-8a58-07b8b61e7bc8"
   },
   "outputs": [
    {
     "name": "stdout",
     "output_type": "stream",
     "text": [
      "Cloning into 'yolov7'...\n",
      "remote: Enumerating objects: 998, done.\u001b[K\n",
      "remote: Total 998 (delta 0), reused 0 (delta 0), pack-reused 998\u001b[K\n",
      "Receiving objects: 100% (998/998), 69.77 MiB | 16.75 MiB/s, done.\n",
      "Resolving deltas: 100% (465/465), done.\n",
      "/content/yolov7\n",
      "\u001b[K     |████████████████████████████████| 1.6 MB 42.4 MB/s \n",
      "\u001b[?25h"
     ]
    }
   ],
   "source": [
    "!git clone https://github.com/WongKinYiu/yolov7 # Downloading YOLOv7 repository and installing requirements\n",
    "%cd yolov7\n",
    "!pip3 install -qr requirements.txt"
   ]
  },
  {
   "cell_type": "code",
   "execution_count": 4,
   "metadata": {
    "colab": {
     "base_uri": "https://localhost:8080/"
    },
    "id": "pAqW_kKx3xsu",
    "outputId": "8d51be5b-bdbd-42a2-b0a4-87d82463f8e3"
   },
   "outputs": [
    {
     "name": "stdout",
     "output_type": "stream",
     "text": [
      "Looking in indexes: https://pypi.org/simple, https://us-python.pkg.dev/colab-wheels/public/simple/\n",
      "Collecting split-folders\n",
      "  Downloading split_folders-0.5.1-py3-none-any.whl (8.4 kB)\n",
      "Installing collected packages: split-folders\n",
      "Successfully installed split-folders-0.5.1\n"
     ]
    }
   ],
   "source": [
    "!pip install split-folders\n"
   ]
  },
  {
   "cell_type": "code",
   "execution_count": 5,
   "metadata": {
    "colab": {
     "base_uri": "https://localhost:8080/"
    },
    "id": "EgiivFot5cUG",
    "outputId": "a66bbec6-850e-4428-ce9c-133fbcc47885"
   },
   "outputs": [
    {
     "name": "stderr",
     "output_type": "stream",
     "text": [
      "Copying files: 52000 files [00:07, 7248.67 files/s]\n"
     ]
    }
   ],
   "source": [
    "import splitfolders\n",
    "splitfolders.ratio('/content/content/', output=\"/content/yolov7/\", seed=1337, ratio=(.8, 0.1,0.1))"
   ]
  },
  {
   "cell_type": "code",
   "execution_count": 8,
   "metadata": {
    "colab": {
     "base_uri": "https://localhost:8080/"
    },
    "id": "VVM4x-YY7cCz",
    "outputId": "70f005be-d267-49e9-d0dc-b66795606901"
   },
   "outputs": [
    {
     "name": "stdout",
     "output_type": "stream",
     "text": [
      "/content/yolov7\n",
      "YOLOR 🚀 v0.1-115-g072f76c torch 1.12.1+cu113 CUDA:0 (A100-SXM4-40GB, 40536.1875MB)\n",
      "\n",
      "Namespace(adam=False, artifact_alias='latest', batch_size=4, bbox_interval=-1, bucket='', cache_images=False, cfg='cfg/training/yolov7-tiny.yaml', data='/content/yolov7/data/custom.yaml', device='', entity=None, epochs=20, evolve=False, exist_ok=False, freeze=[0], global_rank=-1, hyp='data/hyp.scratch.p5.yaml', image_weights=False, img_size=[224, 224], label_smoothing=0.0, linear_lr=False, local_rank=-1, multi_scale=False, name='yolov7', noautoanchor=False, nosave=False, notest=False, project='runs/train', quad=False, rect=False, resume=False, save_dir='runs/train/yolov73', save_period=-1, single_cls=False, sync_bn=False, total_batch_size=4, upload_dataset=False, v5_metric=False, weights='yolov7.pt', workers=4, world_size=1)\n",
      "\u001b[34m\u001b[1mtensorboard: \u001b[0mStart with 'tensorboard --logdir runs/train', view at http://localhost:6006/\n",
      "2022-11-18 14:54:52.677277: I tensorflow/core/util/util.cc:169] oneDNN custom operations are on. You may see slightly different numerical results due to floating-point round-off errors from different computation orders. To turn them off, set the environment variable `TF_ENABLE_ONEDNN_OPTS=0`.\n",
      "\u001b[34m\u001b[1mhyperparameters: \u001b[0mlr0=0.01, lrf=0.1, momentum=0.937, weight_decay=0.0005, warmup_epochs=3.0, warmup_momentum=0.8, warmup_bias_lr=0.1, box=0.05, cls=0.3, cls_pw=1.0, obj=0.7, obj_pw=1.0, iou_t=0.2, anchor_t=4.0, fl_gamma=0.0, hsv_h=0.015, hsv_s=0.7, hsv_v=0.4, degrees=0.0, translate=0.2, scale=0.9, shear=0.0, perspective=0.0, flipud=0.0, fliplr=0.5, mosaic=1.0, mixup=0.15, copy_paste=0.0, paste_in=0.15, loss_ota=1\n",
      "\u001b[34m\u001b[1mwandb: \u001b[0mInstall Weights & Biases for YOLOR logging with 'pip install wandb' (recommended)\n",
      "\n",
      "                 from  n    params  module                                  arguments                     \n",
      "  0                -1  1       928  models.common.Conv                      [3, 32, 3, 2, None, 1, LeakyReLU(negative_slope=0.1)]\n",
      "  1                -1  1     18560  models.common.Conv                      [32, 64, 3, 2, None, 1, LeakyReLU(negative_slope=0.1)]\n",
      "  2                -1  1      2112  models.common.Conv                      [64, 32, 1, 1, None, 1, LeakyReLU(negative_slope=0.1)]\n",
      "  3                -2  1      2112  models.common.Conv                      [64, 32, 1, 1, None, 1, LeakyReLU(negative_slope=0.1)]\n",
      "  4                -1  1      9280  models.common.Conv                      [32, 32, 3, 1, None, 1, LeakyReLU(negative_slope=0.1)]\n",
      "  5                -1  1      9280  models.common.Conv                      [32, 32, 3, 1, None, 1, LeakyReLU(negative_slope=0.1)]\n",
      "  6  [-1, -2, -3, -4]  1         0  models.common.Concat                    [1]                           \n",
      "  7                -1  1      8320  models.common.Conv                      [128, 64, 1, 1, None, 1, LeakyReLU(negative_slope=0.1)]\n",
      "  8                -1  1         0  models.common.MP                        []                            \n",
      "  9                -1  1      4224  models.common.Conv                      [64, 64, 1, 1, None, 1, LeakyReLU(negative_slope=0.1)]\n",
      " 10                -2  1      4224  models.common.Conv                      [64, 64, 1, 1, None, 1, LeakyReLU(negative_slope=0.1)]\n",
      " 11                -1  1     36992  models.common.Conv                      [64, 64, 3, 1, None, 1, LeakyReLU(negative_slope=0.1)]\n",
      " 12                -1  1     36992  models.common.Conv                      [64, 64, 3, 1, None, 1, LeakyReLU(negative_slope=0.1)]\n",
      " 13  [-1, -2, -3, -4]  1         0  models.common.Concat                    [1]                           \n",
      " 14                -1  1     33024  models.common.Conv                      [256, 128, 1, 1, None, 1, LeakyReLU(negative_slope=0.1)]\n",
      " 15                -1  1         0  models.common.MP                        []                            \n",
      " 16                -1  1     16640  models.common.Conv                      [128, 128, 1, 1, None, 1, LeakyReLU(negative_slope=0.1)]\n",
      " 17                -2  1     16640  models.common.Conv                      [128, 128, 1, 1, None, 1, LeakyReLU(negative_slope=0.1)]\n",
      " 18                -1  1    147712  models.common.Conv                      [128, 128, 3, 1, None, 1, LeakyReLU(negative_slope=0.1)]\n",
      " 19                -1  1    147712  models.common.Conv                      [128, 128, 3, 1, None, 1, LeakyReLU(negative_slope=0.1)]\n",
      " 20  [-1, -2, -3, -4]  1         0  models.common.Concat                    [1]                           \n",
      " 21                -1  1    131584  models.common.Conv                      [512, 256, 1, 1, None, 1, LeakyReLU(negative_slope=0.1)]\n",
      " 22                -1  1         0  models.common.MP                        []                            \n",
      " 23                -1  1     66048  models.common.Conv                      [256, 256, 1, 1, None, 1, LeakyReLU(negative_slope=0.1)]\n",
      " 24                -2  1     66048  models.common.Conv                      [256, 256, 1, 1, None, 1, LeakyReLU(negative_slope=0.1)]\n",
      " 25                -1  1    590336  models.common.Conv                      [256, 256, 3, 1, None, 1, LeakyReLU(negative_slope=0.1)]\n",
      " 26                -1  1    590336  models.common.Conv                      [256, 256, 3, 1, None, 1, LeakyReLU(negative_slope=0.1)]\n",
      " 27  [-1, -2, -3, -4]  1         0  models.common.Concat                    [1]                           \n",
      " 28                -1  1    525312  models.common.Conv                      [1024, 512, 1, 1, None, 1, LeakyReLU(negative_slope=0.1)]\n",
      " 29                -1  1    131584  models.common.Conv                      [512, 256, 1, 1, None, 1, LeakyReLU(negative_slope=0.1)]\n",
      " 30                -2  1    131584  models.common.Conv                      [512, 256, 1, 1, None, 1, LeakyReLU(negative_slope=0.1)]\n",
      " 31                -1  1         0  models.common.SP                        [5]                           \n",
      " 32                -2  1         0  models.common.SP                        [9]                           \n",
      " 33                -3  1         0  models.common.SP                        [13]                          \n",
      " 34  [-1, -2, -3, -4]  1         0  models.common.Concat                    [1]                           \n",
      " 35                -1  1    262656  models.common.Conv                      [1024, 256, 1, 1, None, 1, LeakyReLU(negative_slope=0.1)]\n",
      " 36          [-1, -7]  1         0  models.common.Concat                    [1]                           \n",
      " 37                -1  1    131584  models.common.Conv                      [512, 256, 1, 1, None, 1, LeakyReLU(negative_slope=0.1)]\n",
      " 38                -1  1     33024  models.common.Conv                      [256, 128, 1, 1, None, 1, LeakyReLU(negative_slope=0.1)]\n",
      " 39                -1  1         0  torch.nn.modules.upsampling.Upsample    [None, 2, 'nearest']          \n",
      " 40                21  1     33024  models.common.Conv                      [256, 128, 1, 1, None, 1, LeakyReLU(negative_slope=0.1)]\n",
      " 41          [-1, -2]  1         0  models.common.Concat                    [1]                           \n",
      " 42                -1  1     16512  models.common.Conv                      [256, 64, 1, 1, None, 1, LeakyReLU(negative_slope=0.1)]\n",
      " 43                -2  1     16512  models.common.Conv                      [256, 64, 1, 1, None, 1, LeakyReLU(negative_slope=0.1)]\n",
      " 44                -1  1     36992  models.common.Conv                      [64, 64, 3, 1, None, 1, LeakyReLU(negative_slope=0.1)]\n",
      " 45                -1  1     36992  models.common.Conv                      [64, 64, 3, 1, None, 1, LeakyReLU(negative_slope=0.1)]\n",
      " 46  [-1, -2, -3, -4]  1         0  models.common.Concat                    [1]                           \n",
      " 47                -1  1     33024  models.common.Conv                      [256, 128, 1, 1, None, 1, LeakyReLU(negative_slope=0.1)]\n",
      " 48                -1  1      8320  models.common.Conv                      [128, 64, 1, 1, None, 1, LeakyReLU(negative_slope=0.1)]\n",
      " 49                -1  1         0  torch.nn.modules.upsampling.Upsample    [None, 2, 'nearest']          \n",
      " 50                14  1      8320  models.common.Conv                      [128, 64, 1, 1, None, 1, LeakyReLU(negative_slope=0.1)]\n",
      " 51          [-1, -2]  1         0  models.common.Concat                    [1]                           \n",
      " 52                -1  1      4160  models.common.Conv                      [128, 32, 1, 1, None, 1, LeakyReLU(negative_slope=0.1)]\n",
      " 53                -2  1      4160  models.common.Conv                      [128, 32, 1, 1, None, 1, LeakyReLU(negative_slope=0.1)]\n",
      " 54                -1  1      9280  models.common.Conv                      [32, 32, 3, 1, None, 1, LeakyReLU(negative_slope=0.1)]\n",
      " 55                -1  1      9280  models.common.Conv                      [32, 32, 3, 1, None, 1, LeakyReLU(negative_slope=0.1)]\n",
      " 56  [-1, -2, -3, -4]  1         0  models.common.Concat                    [1]                           \n",
      " 57                -1  1      8320  models.common.Conv                      [128, 64, 1, 1, None, 1, LeakyReLU(negative_slope=0.1)]\n",
      " 58                -1  1     73984  models.common.Conv                      [64, 128, 3, 2, None, 1, LeakyReLU(negative_slope=0.1)]\n",
      " 59          [-1, 47]  1         0  models.common.Concat                    [1]                           \n",
      " 60                -1  1     16512  models.common.Conv                      [256, 64, 1, 1, None, 1, LeakyReLU(negative_slope=0.1)]\n",
      " 61                -2  1     16512  models.common.Conv                      [256, 64, 1, 1, None, 1, LeakyReLU(negative_slope=0.1)]\n",
      " 62                -1  1     36992  models.common.Conv                      [64, 64, 3, 1, None, 1, LeakyReLU(negative_slope=0.1)]\n",
      " 63                -1  1     36992  models.common.Conv                      [64, 64, 3, 1, None, 1, LeakyReLU(negative_slope=0.1)]\n",
      " 64  [-1, -2, -3, -4]  1         0  models.common.Concat                    [1]                           \n",
      " 65                -1  1     33024  models.common.Conv                      [256, 128, 1, 1, None, 1, LeakyReLU(negative_slope=0.1)]\n",
      " 66                -1  1    295424  models.common.Conv                      [128, 256, 3, 2, None, 1, LeakyReLU(negative_slope=0.1)]\n",
      " 67          [-1, 37]  1         0  models.common.Concat                    [1]                           \n",
      " 68                -1  1     65792  models.common.Conv                      [512, 128, 1, 1, None, 1, LeakyReLU(negative_slope=0.1)]\n",
      " 69                -2  1     65792  models.common.Conv                      [512, 128, 1, 1, None, 1, LeakyReLU(negative_slope=0.1)]\n",
      " 70                -1  1    147712  models.common.Conv                      [128, 128, 3, 1, None, 1, LeakyReLU(negative_slope=0.1)]\n",
      " 71                -1  1    147712  models.common.Conv                      [128, 128, 3, 1, None, 1, LeakyReLU(negative_slope=0.1)]\n",
      " 72  [-1, -2, -3, -4]  1         0  models.common.Concat                    [1]                           \n",
      " 73                -1  1    131584  models.common.Conv                      [512, 256, 1, 1, None, 1, LeakyReLU(negative_slope=0.1)]\n",
      " 74                57  1     73984  models.common.Conv                      [64, 128, 3, 1, None, 1, LeakyReLU(negative_slope=0.1)]\n",
      " 75                65  1    295424  models.common.Conv                      [128, 256, 3, 1, None, 1, LeakyReLU(negative_slope=0.1)]\n",
      " 76                73  1   1180672  models.common.Conv                      [256, 512, 3, 1, None, 1, LeakyReLU(negative_slope=0.1)]\n",
      " 77      [74, 75, 76]  1     17132  models.yolo.IDetect                     [1, [[10, 13, 16, 30, 33, 23], [30, 61, 62, 45, 59, 119], [116, 90, 156, 198, 373, 326]], [128, 256, 512]]\n",
      "/usr/local/lib/python3.7/dist-packages/torch/functional.py:478: UserWarning: torch.meshgrid: in an upcoming release, it will be required to pass the indexing argument. (Triggered internally at  ../aten/src/ATen/native/TensorShape.cpp:2894.)\n",
      "  return _VF.meshgrid(tensors, **kwargs)  # type: ignore[attr-defined]\n",
      "Model Summary: 263 layers, 6014988 parameters, 6014988 gradients, 13.2 GFLOPS\n",
      "\n",
      "Transferred 102/344 items from yolov7.pt\n",
      "Scaled weight_decay = 0.0005\n",
      "Optimizer groups: 58 .bias, 58 conv.weight, 61 other\n",
      "\u001b[34m\u001b[1mtrain: \u001b[0mScanning '/content/yolov7/train/labels.cache' images and labels... 20800 found, 0 missing, 0 empty, 1 corrupted: 100% 20800/20800 [00:00<?, ?it/s]\n",
      "\u001b[34m\u001b[1mval: \u001b[0mScanning '/content/yolov7/val/labels.cache' images and labels... 2600 found, 0 missing, 0 empty, 0 corrupted: 100% 2600/2600 [00:00<?, ?it/s]\n",
      "\n",
      "\u001b[34m\u001b[1mautoanchor: \u001b[0mAnalyzing anchors... anchors/target = 6.04, Best Possible Recall (BPR) = 1.0000\n",
      "Image sizes 224 train, 224 test\n",
      "Using 4 dataloader workers\n",
      "Logging results to runs/train/yolov73\n",
      "Starting training for 20 epochs...\n",
      "\n",
      "     Epoch   gpu_mem       box       obj       cls     total    labels  img_size\n",
      "      0/19     1.35G   0.06493  0.006262         0   0.07119        10       224: 100% 5200/5200 [07:11<00:00, 12.05it/s]\n",
      "               Class      Images      Labels           P           R      mAP@.5  mAP@.5:.95: 100% 325/325 [00:15<00:00, 21.19it/s]\n",
      "                 all        2600        2600      0.0629        0.27      0.0397     0.00764\n",
      "\n",
      "     Epoch   gpu_mem       box       obj       cls     total    labels  img_size\n",
      "      1/19     1.37G   0.05136   0.00671         0   0.05807         5       224: 100% 5200/5200 [06:38<00:00, 13.05it/s]\n",
      "               Class      Images      Labels           P           R      mAP@.5  mAP@.5:.95: 100% 325/325 [00:13<00:00, 23.32it/s]\n",
      "                 all        2600        2600       0.515       0.502       0.518       0.204\n",
      "\n",
      "     Epoch   gpu_mem       box       obj       cls     total    labels  img_size\n",
      "      2/19     1.37G   0.04665  0.005889         0   0.05254        10       224: 100% 5200/5200 [06:34<00:00, 13.18it/s]\n",
      "               Class      Images      Labels           P           R      mAP@.5  mAP@.5:.95: 100% 325/325 [00:14<00:00, 23.07it/s]\n",
      "                 all        2600        2600       0.738       0.734       0.781       0.378\n",
      "\n",
      "     Epoch   gpu_mem       box       obj       cls     total    labels  img_size\n",
      "      3/19     1.37G   0.04351  0.005412         0   0.04893         3       224: 100% 5200/5200 [06:30<00:00, 13.31it/s]\n",
      "               Class      Images      Labels           P           R      mAP@.5  mAP@.5:.95: 100% 325/325 [00:13<00:00, 23.73it/s]\n",
      "                 all        2600        2600       0.858       0.797        0.87       0.467\n",
      "\n",
      "     Epoch   gpu_mem       box       obj       cls     total    labels  img_size\n",
      "      4/19     1.37G    0.0408  0.005121         0   0.04592         5       224: 100% 5200/5200 [06:31<00:00, 13.28it/s]\n",
      "               Class      Images      Labels           P           R      mAP@.5  mAP@.5:.95: 100% 325/325 [00:13<00:00, 23.64it/s]\n",
      "                 all        2600        2600        0.84       0.842       0.895       0.519\n",
      "\n",
      "     Epoch   gpu_mem       box       obj       cls     total    labels  img_size\n",
      "      5/19     1.37G   0.03912  0.005019         0   0.04414         6       224: 100% 5200/5200 [06:31<00:00, 13.30it/s]\n",
      "               Class      Images      Labels           P           R      mAP@.5  mAP@.5:.95: 100% 325/325 [00:14<00:00, 23.11it/s]\n",
      "                 all        2600        2600       0.866       0.874       0.924        0.56\n",
      "\n",
      "     Epoch   gpu_mem       box       obj       cls     total    labels  img_size\n",
      "      6/19     1.37G   0.03756   0.00489         0   0.04245         6       224: 100% 5200/5200 [06:28<00:00, 13.38it/s]\n",
      "               Class      Images      Labels           P           R      mAP@.5  mAP@.5:.95: 100% 325/325 [00:13<00:00, 23.86it/s]\n",
      "                 all        2600        2600       0.896       0.861       0.923       0.583\n",
      "\n",
      "     Epoch   gpu_mem       box       obj       cls     total    labels  img_size\n",
      "      7/19     1.37G   0.03674  0.004776         0   0.04151        10       224: 100% 5200/5200 [06:26<00:00, 13.45it/s]\n",
      "               Class      Images      Labels           P           R      mAP@.5  mAP@.5:.95: 100% 325/325 [00:13<00:00, 24.17it/s]\n",
      "                 all        2600        2600       0.903       0.898       0.946       0.605\n",
      "\n",
      "     Epoch   gpu_mem       box       obj       cls     total    labels  img_size\n",
      "      8/19     1.37G   0.03571   0.00468         0   0.04039         5       224: 100% 5200/5200 [06:27<00:00, 13.43it/s]\n",
      "               Class      Images      Labels           P           R      mAP@.5  mAP@.5:.95: 100% 325/325 [00:13<00:00, 23.79it/s]\n",
      "                 all        2600        2600       0.919         0.9       0.949       0.622\n",
      "\n",
      "     Epoch   gpu_mem       box       obj       cls     total    labels  img_size\n",
      "      9/19     1.37G   0.03505  0.004604         0   0.03965         3       224: 100% 5200/5200 [06:24<00:00, 13.54it/s]\n",
      "               Class      Images      Labels           P           R      mAP@.5  mAP@.5:.95: 100% 325/325 [00:13<00:00, 24.09it/s]\n",
      "                 all        2600        2600        0.92       0.908       0.952       0.638\n",
      "\n",
      "     Epoch   gpu_mem       box       obj       cls     total    labels  img_size\n",
      "     10/19     1.37G   0.03429   0.00451         0    0.0388         6       224: 100% 5200/5200 [06:22<00:00, 13.58it/s]\n",
      "               Class      Images      Labels           P           R      mAP@.5  mAP@.5:.95: 100% 325/325 [00:13<00:00, 23.65it/s]\n",
      "                 all        2600        2600       0.931       0.907       0.961       0.655\n",
      "\n",
      "     Epoch   gpu_mem       box       obj       cls     total    labels  img_size\n",
      "     11/19     1.37G    0.0337  0.004499         0    0.0382         9       224: 100% 5200/5200 [06:24<00:00, 13.51it/s]\n",
      "               Class      Images      Labels           P           R      mAP@.5  mAP@.5:.95: 100% 325/325 [00:13<00:00, 24.15it/s]\n",
      "                 all        2600        2600       0.932       0.912       0.962       0.666\n",
      "\n",
      "     Epoch   gpu_mem       box       obj       cls     total    labels  img_size\n",
      "     12/19     1.37G   0.03336  0.004387         0   0.03775         9       224: 100% 5200/5200 [06:21<00:00, 13.64it/s]\n",
      "               Class      Images      Labels           P           R      mAP@.5  mAP@.5:.95: 100% 325/325 [00:13<00:00, 24.11it/s]\n",
      "                 all        2600        2600       0.917       0.929       0.964       0.663\n",
      "\n",
      "     Epoch   gpu_mem       box       obj       cls     total    labels  img_size\n",
      "     13/19     1.37G   0.03273  0.004343         0   0.03707         9       224: 100% 5200/5200 [06:24<00:00, 13.54it/s]\n",
      "               Class      Images      Labels           P           R      mAP@.5  mAP@.5:.95: 100% 325/325 [00:13<00:00, 23.72it/s]\n",
      "                 all        2600        2600       0.941       0.928        0.97       0.675\n",
      "\n",
      "     Epoch   gpu_mem       box       obj       cls     total    labels  img_size\n",
      "     14/19     1.37G   0.03216  0.004293         0   0.03646         2       224: 100% 5200/5200 [06:22<00:00, 13.60it/s]\n",
      "               Class      Images      Labels           P           R      mAP@.5  mAP@.5:.95: 100% 325/325 [00:13<00:00, 23.98it/s]\n",
      "                 all        2600        2600       0.944       0.932       0.974       0.687\n",
      "\n",
      "     Epoch   gpu_mem       box       obj       cls     total    labels  img_size\n",
      "     15/19     1.37G   0.03166  0.004245         0   0.03591         6       224: 100% 5200/5200 [06:22<00:00, 13.61it/s]\n",
      "               Class      Images      Labels           P           R      mAP@.5  mAP@.5:.95: 100% 325/325 [00:13<00:00, 24.22it/s]\n",
      "                 all        2600        2600       0.944       0.933       0.972       0.694\n",
      "\n",
      "     Epoch   gpu_mem       box       obj       cls     total    labels  img_size\n",
      "     16/19     1.37G   0.03137  0.004252         0   0.03563         9       224: 100% 5200/5200 [06:23<00:00, 13.57it/s]\n",
      "               Class      Images      Labels           P           R      mAP@.5  mAP@.5:.95: 100% 325/325 [00:13<00:00, 24.32it/s]\n",
      "                 all        2600        2600        0.94       0.947       0.976       0.697\n",
      "\n",
      "     Epoch   gpu_mem       box       obj       cls     total    labels  img_size\n",
      "     17/19     1.37G   0.03105  0.004197         0   0.03524         9       224: 100% 5200/5200 [06:20<00:00, 13.66it/s]\n",
      "               Class      Images      Labels           P           R      mAP@.5  mAP@.5:.95: 100% 325/325 [00:13<00:00, 24.21it/s]\n",
      "                 all        2600        2600       0.947       0.933       0.975         0.7\n",
      "\n",
      "     Epoch   gpu_mem       box       obj       cls     total    labels  img_size\n",
      "     18/19     1.37G   0.03067  0.004138         0   0.03481         9       224: 100% 5200/5200 [06:21<00:00, 13.63it/s]\n",
      "               Class      Images      Labels           P           R      mAP@.5  mAP@.5:.95: 100% 325/325 [00:13<00:00, 23.89it/s]\n",
      "                 all        2600        2600        0.95       0.941       0.977       0.706\n",
      "\n",
      "     Epoch   gpu_mem       box       obj       cls     total    labels  img_size\n",
      "     19/19     1.37G   0.03028  0.004125         0    0.0344         4       224: 100% 5200/5200 [06:21<00:00, 13.62it/s]\n",
      "               Class      Images      Labels           P           R      mAP@.5  mAP@.5:.95: 100% 325/325 [00:15<00:00, 21.05it/s]\n",
      "                 all        2600        2600       0.947        0.95       0.978       0.707\n"
     ]
    }
   ],
   "source": [
    "%cd /content/yolov7\n",
    "\n",
    "!python train.py --weights yolov7.pt --data \"/content/yolov7/data/custom.yaml\" --epochs 20 --workers 4 --batch-size 4 --img 224 --cfg cfg/training/yolov7-tiny.yaml --name yolov7 --hyp data/hyp.scratch.p5.yaml"
   ]
  },
  {
   "cell_type": "code",
   "execution_count": null,
   "metadata": {
    "id": "sh9AcyCt9suz"
   },
   "outputs": [],
   "source": [
    "!ls /content/yolov7/train/labels\n"
   ]
  },
  {
   "cell_type": "code",
   "execution_count": 9,
   "metadata": {
    "colab": {
     "base_uri": "https://localhost:8080/"
    },
    "id": "ccxh2_PmuyJc",
    "outputId": "71a36468-a79c-45f2-96b1-46b3934678dc"
   },
   "outputs": [
    {
     "name": "stdout",
     "output_type": "stream",
     "text": [
      "  adding: content/yolov7/runs/train/yolov73/ (stored 0%)\n",
      "  adding: content/yolov7/runs/train/yolov73/confusion_matrix.png (deflated 39%)\n",
      "  adding: content/yolov7/runs/train/yolov73/test_batch1_labels.jpg (deflated 9%)\n",
      "  adding: content/yolov7/runs/train/yolov73/R_curve.png (deflated 19%)\n",
      "  adding: content/yolov7/runs/train/yolov73/PR_curve.png (deflated 24%)\n",
      "  adding: content/yolov7/runs/train/yolov73/weights/ (stored 0%)\n",
      "  adding: content/yolov7/runs/train/yolov73/weights/epoch_000.pt (deflated 9%)\n",
      "  adding: content/yolov7/runs/train/yolov73/weights/epoch_018.pt (deflated 8%)\n",
      "  adding: content/yolov7/runs/train/yolov73/weights/epoch_015.pt (deflated 9%)\n",
      "  adding: content/yolov7/runs/train/yolov73/weights/best.pt (deflated 10%)\n",
      "  adding: content/yolov7/runs/train/yolov73/weights/epoch_016.pt (deflated 9%)\n",
      "  adding: content/yolov7/runs/train/yolov73/weights/epoch_019.pt (deflated 8%)\n",
      "  adding: content/yolov7/runs/train/yolov73/weights/epoch_017.pt (deflated 8%)\n",
      "  adding: content/yolov7/runs/train/yolov73/weights/last.pt (deflated 10%)\n",
      "  adding: content/yolov7/runs/train/yolov73/weights/init.pt (deflated 44%)\n",
      "  adding: content/yolov7/runs/train/yolov73/train_batch6.jpg (deflated 2%)\n",
      "  adding: content/yolov7/runs/train/yolov73/train_batch7.jpg (deflated 3%)\n",
      "  adding: content/yolov7/runs/train/yolov73/hyp.yaml (deflated 44%)\n",
      "  adding: content/yolov7/runs/train/yolov73/test_batch2_labels.jpg (deflated 12%)\n",
      "  adding: content/yolov7/runs/train/yolov73/test_batch2_pred.jpg (deflated 13%)\n",
      "  adding: content/yolov7/runs/train/yolov73/train_batch0.jpg (deflated 7%)\n",
      "  adding: content/yolov7/runs/train/yolov73/train_batch2.jpg (deflated 3%)\n",
      "  adding: content/yolov7/runs/train/yolov73/results.png (deflated 10%)\n",
      "  adding: content/yolov7/runs/train/yolov73/opt.yaml (deflated 47%)\n",
      "  adding: content/yolov7/runs/train/yolov73/test_batch0_labels.jpg (deflated 12%)\n",
      "  adding: content/yolov7/runs/train/yolov73/test_batch0_pred.jpg (deflated 11%)\n",
      "  adding: content/yolov7/runs/train/yolov73/P_curve.png (deflated 20%)\n",
      "  adding: content/yolov7/runs/train/yolov73/train_batch4.jpg (deflated 8%)\n",
      "  adding: content/yolov7/runs/train/yolov73/F1_curve.png (deflated 18%)\n",
      "  adding: content/yolov7/runs/train/yolov73/train_batch3.jpg (deflated 3%)\n",
      "  adding: content/yolov7/runs/train/yolov73/train_batch8.jpg (deflated 2%)\n",
      "  adding: content/yolov7/runs/train/yolov73/test_batch1_pred.jpg (deflated 8%)\n",
      "  adding: content/yolov7/runs/train/yolov73/train_batch1.jpg (deflated 5%)\n",
      "  adding: content/yolov7/runs/train/yolov73/results.txt (deflated 76%)\n",
      "  adding: content/yolov7/runs/train/yolov73/train_batch9.jpg (deflated 4%)\n",
      "  adding: content/yolov7/runs/train/yolov73/events.out.tfevents.1668783294.136958045b65.839.0 (deflated 69%)\n",
      "  adding: content/yolov7/runs/train/yolov73/train_batch5.jpg (deflated 2%)\n"
     ]
    }
   ],
   "source": [
    "!zip -r Tsinghua_truncated_yoloV7_train_3.zip '/content/yolov7/runs/train/yolov73'"
   ]
  },
  {
   "cell_type": "code",
   "execution_count": 10,
   "metadata": {
    "colab": {
     "base_uri": "https://localhost:8080/"
    },
    "id": "ItKDOpTFveUQ",
    "outputId": "f0bf077f-96ec-4adb-de45-43989ba8a154"
   },
   "outputs": [
    {
     "name": "stdout",
     "output_type": "stream",
     "text": [
      "Namespace(augment=False, batch_size=32, conf_thres=0.001, data='data/custom.yaml', device='', exist_ok=False, img_size=640, iou_thres=0.65, name='exp', no_trace=False, project='runs/test', save_conf=False, save_hybrid=False, save_json=False, save_txt=False, single_cls=False, task='test', v5_metric=False, verbose=False, weights=['runs/train/yolov73/weights/best.pt'])\n",
      "YOLOR 🚀 v0.1-115-g072f76c torch 1.12.1+cu113 CUDA:0 (A100-SXM4-40GB, 40536.1875MB)\n",
      "\n",
      "Fusing layers... \n",
      "IDetect.fuse\n",
      "/usr/local/lib/python3.7/dist-packages/torch/functional.py:478: UserWarning: torch.meshgrid: in an upcoming release, it will be required to pass the indexing argument. (Triggered internally at  ../aten/src/ATen/native/TensorShape.cpp:2894.)\n",
      "  return _VF.meshgrid(tensors, **kwargs)  # type: ignore[attr-defined]\n",
      "Model Summary: 208 layers, 6007596 parameters, 0 gradients, 13.0 GFLOPS\n",
      " Convert model to Traced-model... \n",
      " traced_script_module saved! \n",
      " model is traced! \n",
      "\n",
      "\u001b[34m\u001b[1mtest: \u001b[0mScanning '/content/yolov7/test/labels' images and labels... 2198 found, 0 missing, 0 empty, 0 corrupted:  85% 2198/2600 [00:00<00:00, 3682.82it/s]\u001b[34m\u001b[1mtest: \u001b[0mWARNING: Ignoring corrupted image and/or label /content/yolov7/test/images/n151241.jpg: non-normalized or out of bounds coordinate labels\n",
      "\u001b[34m\u001b[1mtest: \u001b[0mScanning '/content/yolov7/test/labels' images and labels... 2600 found, 0 missing, 0 empty, 1 corrupted: 100% 2600/2600 [00:00<00:00, 3661.69it/s]\n",
      "\u001b[34m\u001b[1mtest: \u001b[0mNew cache created: /content/yolov7/test/labels.cache\n",
      "               Class      Images      Labels           P           R      mAP@.5  mAP@.5:.95: 100% 82/82 [00:12<00:00,  6.48it/s]\n",
      "                 all        2599        2599       0.789       0.616       0.664       0.372\n",
      "Speed: 0.9/0.9/1.8 ms inference/NMS/total per 640x640 image at batch-size 32\n",
      "Results saved to runs/test/exp\n"
     ]
    }
   ],
   "source": [
    "!python test.py --weights runs/train/yolov73/weights/best.pt --task test --data data/custom.yaml\n"
   ]
  },
  {
   "cell_type": "code",
   "execution_count": 11,
   "metadata": {
    "colab": {
     "base_uri": "https://localhost:8080/"
    },
    "id": "pDMlT8XG0GQZ",
    "outputId": "be93596a-2a65-4f09-c096-2c1c62220634"
   },
   "outputs": [
    {
     "name": "stdout",
     "output_type": "stream",
     "text": [
      "  adding: content/yolov7/runs/test/exp/ (stored 0%)\n",
      "  adding: content/yolov7/runs/test/exp/confusion_matrix.png (deflated 37%)\n",
      "  adding: content/yolov7/runs/test/exp/test_batch1_labels.jpg (deflated 4%)\n",
      "  adding: content/yolov7/runs/test/exp/R_curve.png (deflated 19%)\n",
      "  adding: content/yolov7/runs/test/exp/PR_curve.png (deflated 19%)\n",
      "  adding: content/yolov7/runs/test/exp/test_batch2_labels.jpg (deflated 5%)\n",
      "  adding: content/yolov7/runs/test/exp/test_batch2_pred.jpg (deflated 5%)\n",
      "  adding: content/yolov7/runs/test/exp/test_batch0_labels.jpg (deflated 9%)\n",
      "  adding: content/yolov7/runs/test/exp/test_batch0_pred.jpg (deflated 9%)\n",
      "  adding: content/yolov7/runs/test/exp/P_curve.png (deflated 18%)\n",
      "  adding: content/yolov7/runs/test/exp/F1_curve.png (deflated 18%)\n",
      "  adding: content/yolov7/runs/test/exp/test_batch1_pred.jpg (deflated 4%)\n"
     ]
    }
   ],
   "source": [
    "!zip -r Tsinghua_truncated_yoloV7_test_3.zip '/content/yolov7/runs/test/exp'"
   ]
  }
 ],
 "metadata": {
  "accelerator": "GPU",
  "colab": {
   "machine_shape": "hm",
   "provenance": []
  },
  "gpuClass": "premium",
  "kernelspec": {
   "display_name": "Python 3 (ipykernel)",
   "language": "python",
   "name": "python3"
  },
  "language_info": {
   "codemirror_mode": {
    "name": "ipython",
    "version": 3
   },
   "file_extension": ".py",
   "mimetype": "text/x-python",
   "name": "python",
   "nbconvert_exporter": "python",
   "pygments_lexer": "ipython3",
   "version": "3.10.8"
  }
 },
 "nbformat": 4,
 "nbformat_minor": 1
}
